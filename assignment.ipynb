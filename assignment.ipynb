{
 "cells": [
  {
   "cell_type": "code",
   "execution_count": null,
   "id": "e4a63a26-0e09-4dd0-81a0-2429017e69e1",
   "metadata": {},
   "outputs": [],
   "source": [
    "# Exercise 2 - Create a markdown cell with the title of the notebook"
   ]
  },
  {
   "cell_type": "markdown",
   "id": "afcb7273-e0d0-48ad-9433-a1ed7e2152bf",
   "metadata": {
    "editable": true,
    "slideshow": {
     "slide_type": ""
    },
    "tags": []
   },
   "source": [
    "# Peer-graded Assignment: Submit Your Work and Grade Your Peers"
   ]
  },
  {
   "cell_type": "code",
   "execution_count": null,
   "id": "6d329bea-e310-4e2a-b9af-8f7a2b1da063",
   "metadata": {
    "editable": true,
    "slideshow": {
     "slide_type": ""
    },
    "tags": []
   },
   "outputs": [],
   "source": [
    "# Exercise 3 - Create a markdown cell for an introduction"
   ]
  },
  {
   "cell_type": "markdown",
   "id": "03825431-b750-4962-a446-a7155d48e205",
   "metadata": {},
   "source": [
    "## Introduction\n",
    "Hi everyone, this is Akshay Rathore. Currently, I am a professional worker at HCL-Tech. \n",
    "This is my data science project, where I have solved each question of the assignment through self-understanding and learning from this Data Science course. "
   ]
  },
  {
   "cell_type": "code",
   "execution_count": null,
   "id": "64505354-948f-4b2f-be7b-b04b2a47c353",
   "metadata": {},
   "outputs": [],
   "source": [
    "Exercise 4 - Create a markdown cell to list data science languages. (3 pts)"
   ]
  },
  {
   "cell_type": "markdown",
   "id": "38a6e580-f31e-4e6f-ad8e-662aa3121a8a",
   "metadata": {},
   "source": [
    "### List of data science languages\n",
    "1. Python\n",
    "2. R\n",
    "3. Julia\n",
    "4. Scala\n",
    "5. SQL"
   ]
  },
  {
   "cell_type": "code",
   "execution_count": null,
   "id": "475b005c-412b-45a9-a54a-a0255973dbe3",
   "metadata": {},
   "outputs": [],
   "source": [
    "Exercise 5 - Create a markdown cell to list data science libraries. (3 pts)"
   ]
  },
  {
   "cell_type": "markdown",
   "id": "7bc98d6b-c69b-4a6d-81dc-44f0540a0e2a",
   "metadata": {},
   "source": [
    "### List of data science libraries\n",
    "1. Numpy\n",
    "2. Pandas\n",
    "3. Scikit-Learn\n",
    "4. TensorFlow\n",
    "5. PyTorch\n",
    "6. matplotlib\n",
    "7. Seaborn\n",
    "8. keras"
   ]
  },
  {
   "cell_type": "code",
   "execution_count": null,
   "id": "d68c02ea-3490-47fb-8e5b-b1c27be83005",
   "metadata": {},
   "outputs": [],
   "source": [
    "Exercise 6 - Create a markdown cell with a table of Data Science tools. (3 pts)"
   ]
  },
  {
   "cell_type": "markdown",
   "id": "4cef0eed-b0ff-4446-b6aa-e61f500d364d",
   "metadata": {},
   "source": [
    "|  Table of data science tools   |\n",
    "----------------------------------\n",
    "|         Jupyter Notebook       |\n",
    "|         Anaconda               |\n",
    "|         RStudio                |\n",
    "|         Apache Spark           |\n",
    "|         Tableau                |\n",
    "|         Apache Hadoop          |\n",
    "|         Git                    |\n"
   ]
  },
  {
   "cell_type": "code",
   "execution_count": null,
   "id": "a57abd91-ed8c-4000-bc49-a122f6ac8dd0",
   "metadata": {},
   "outputs": [],
   "source": [
    "Exercise 7 - Create a markdown cell introducing arithmetic expression examples. (1 pt)"
   ]
  },
  {
   "cell_type": "markdown",
   "id": "93eeb3c6-daa3-4988-b807-d99220ed4153",
   "metadata": {},
   "source": [
    "### Addition\n",
    "5+10 = 15\n",
    "\n",
    "### Subtraction\n",
    "10-5 = 5\n",
    "\n",
    "### Multiplication\n",
    "10*5 = 50\n",
    "\n",
    "### Division\n",
    "50/5 = 10"
   ]
  },
  {
   "cell_type": "code",
   "execution_count": null,
   "id": "e304f588-207f-46e9-95b5-8ff9f2ea1740",
   "metadata": {},
   "outputs": [],
   "source": [
    "Exercise 8 - Create a code cell to multiply and add numbers. (2 pts)"
   ]
  },
  {
   "cell_type": "code",
   "execution_count": 17,
   "id": "b98dcc9c-19a5-4664-b99f-59dd7b5f2b3b",
   "metadata": {},
   "outputs": [
    {
     "data": {
      "text/plain": [
       "240"
      ]
     },
     "execution_count": 17,
     "metadata": {},
     "output_type": "execute_result"
    }
   ],
   "source": [
    "(10+2)*20"
   ]
  },
  {
   "cell_type": "code",
   "execution_count": null,
   "id": "c15642b5-7a4f-4455-b1c4-32a75fea0181",
   "metadata": {},
   "outputs": [],
   "source": [
    "Exercise 9 - Create a code cell to convert minutes to hours. (2 pts)"
   ]
  },
  {
   "cell_type": "code",
   "execution_count": 19,
   "id": "27a913df-0d08-4b2f-b06c-6b0f62a1f253",
   "metadata": {},
   "outputs": [
    {
     "data": {
      "text/plain": [
       "2.0"
      ]
     },
     "execution_count": 19,
     "metadata": {},
     "output_type": "execute_result"
    }
   ],
   "source": [
    "minutes = 120\n",
    "hours = minutes / 60\n",
    "hours"
   ]
  },
  {
   "cell_type": "code",
   "execution_count": null,
   "id": "51769c6e-1975-4ef3-83da-f21636cbe969",
   "metadata": {},
   "outputs": [],
   "source": [
    "Exercise 10 -Insert a markdown cell to list Objectives. (3 pts)"
   ]
  },
  {
   "cell_type": "markdown",
   "id": "023cfd52-a53f-444c-8b39-77734aedbc2c",
   "metadata": {},
   "source": [
    "### Objectives\n",
    "\n",
    "1. Create a markdown cell with the title of the notebook\n",
    "2. Create a markdown cell for an introduction.\n",
    "3. Create a markdown cell to list data science languages.\n",
    "4. Create a markdown cell to list data science libraries.\n",
    "5. Create a markdown cell with a table of Data Science tools.\n",
    "6. Create a markdown cell introducing arithmetic expression examples.\n",
    "7. Create a code cell to multiply and add numbers\n",
    "8. Create a code cell to convert minutes to hours. "
   ]
  },
  {
   "cell_type": "code",
   "execution_count": null,
   "id": "60bd047c-ed19-4081-bf4b-5aee18a6f685",
   "metadata": {},
   "outputs": [],
   "source": [
    "Exercise 11 - Create a markdown cell to indicate the Author’s name. (2 pts)"
   ]
  },
  {
   "cell_type": "markdown",
   "id": "7f643043-8f1c-434e-8fc3-94c1f238f0a5",
   "metadata": {},
   "source": [
    "Author: [Akshay Rathore](https://www.linkedin.com/in/akshay8175/)\n",
    "GitRepo: [DS_Assignment](https://github.com/akshay8175/DS_Assignment)"
   ]
  },
  {
   "cell_type": "code",
   "execution_count": null,
   "id": "2c262f13-e581-47b9-9bf5-d75395d20bf9",
   "metadata": {},
   "outputs": [],
   "source": []
  }
 ],
 "metadata": {
  "kernelspec": {
   "display_name": "Python 3 (ipykernel)",
   "language": "python",
   "name": "python3"
  },
  "language_info": {
   "codemirror_mode": {
    "name": "ipython",
    "version": 3
   },
   "file_extension": ".py",
   "mimetype": "text/x-python",
   "name": "python",
   "nbconvert_exporter": "python",
   "pygments_lexer": "ipython3",
   "version": "3.11.1"
  },
  "widgets": {
   "application/vnd.jupyter.widget-state+json": {
    "state": {},
    "version_major": 2,
    "version_minor": 0
   }
  }
 },
 "nbformat": 4,
 "nbformat_minor": 5
}
